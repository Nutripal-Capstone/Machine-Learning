{
  "nbformat": 4,
  "nbformat_minor": 0,
  "metadata": {
    "colab": {
      "provenance": [],
      "machine_shape": "hm",
      "gpuType": "T4"
    },
    "kernelspec": {
      "name": "python3",
      "display_name": "Python 3"
    },
    "language_info": {
      "name": "python"
    },
    "accelerator": "GPU"
  },
  "cells": [
    {
      "cell_type": "code",
      "source": [
        "from google.colab import drive\n",
        "drive.mount('/content/drive')\n"
      ],
      "metadata": {
        "colab": {
          "base_uri": "https://localhost:8080/"
        },
        "id": "GbGyuf3ng_YZ",
        "outputId": "bdf3a7ff-6c6c-4128-8f8b-d92e06c68b11"
      },
      "execution_count": null,
      "outputs": [
        {
          "output_type": "stream",
          "name": "stdout",
          "text": [
            "Mounted at /content/drive\n"
          ]
        }
      ]
    },
    {
      "cell_type": "code",
      "source": [],
      "metadata": {
        "id": "ZflZIGjnhEzq"
      },
      "execution_count": null,
      "outputs": []
    },
    {
      "cell_type": "code",
      "execution_count": null,
      "metadata": {
        "colab": {
          "base_uri": "https://localhost:8080/"
        },
        "id": "TvmjLG4hgvS9",
        "outputId": "4931b8da-97b0-43c2-dfb8-716f8dae579e"
      },
      "outputs": [
        {
          "output_type": "stream",
          "name": "stdout",
          "text": [
            "Epoch 1/50\n",
            "3952/3952 [==============================] - 16s 3ms/step - loss: nan - accuracy: 0.1110\n",
            "Epoch 2/50\n",
            "3952/3952 [==============================] - 11s 3ms/step - loss: nan - accuracy: 0.1110\n",
            "Epoch 3/50\n",
            "3952/3952 [==============================] - 11s 3ms/step - loss: nan - accuracy: 0.1110\n",
            "Epoch 4/50\n",
            "3952/3952 [==============================] - 11s 3ms/step - loss: nan - accuracy: 0.1110\n",
            "Epoch 5/50\n",
            "3952/3952 [==============================] - 11s 3ms/step - loss: nan - accuracy: 0.1110\n",
            "Epoch 6/50\n",
            "3952/3952 [==============================] - 10s 3ms/step - loss: nan - accuracy: 0.1110\n",
            "Epoch 7/50\n",
            "3952/3952 [==============================] - 11s 3ms/step - loss: nan - accuracy: 0.1110\n",
            "Epoch 8/50\n",
            "3952/3952 [==============================] - 11s 3ms/step - loss: nan - accuracy: 0.1110\n",
            "Epoch 9/50\n",
            "3952/3952 [==============================] - 11s 3ms/step - loss: nan - accuracy: 0.1110\n",
            "Epoch 10/50\n",
            "3952/3952 [==============================] - 11s 3ms/step - loss: nan - accuracy: 0.1110\n",
            "Epoch 11/50\n",
            "3952/3952 [==============================] - 11s 3ms/step - loss: nan - accuracy: 0.1110\n",
            "Epoch 12/50\n",
            "3952/3952 [==============================] - 12s 3ms/step - loss: nan - accuracy: 0.1110\n",
            "Epoch 13/50\n",
            "3952/3952 [==============================] - 10s 3ms/step - loss: nan - accuracy: 0.1110\n",
            "Epoch 14/50\n",
            "3952/3952 [==============================] - 11s 3ms/step - loss: nan - accuracy: 0.1110\n",
            "Epoch 15/50\n",
            "3952/3952 [==============================] - 11s 3ms/step - loss: nan - accuracy: 0.1110\n",
            "Epoch 16/50\n",
            "3952/3952 [==============================] - 11s 3ms/step - loss: nan - accuracy: 0.1110\n",
            "Epoch 17/50\n",
            "3952/3952 [==============================] - 11s 3ms/step - loss: nan - accuracy: 0.1110\n",
            "Epoch 18/50\n",
            "3952/3952 [==============================] - 10s 3ms/step - loss: nan - accuracy: 0.1110\n",
            "Epoch 19/50\n",
            "3952/3952 [==============================] - 10s 3ms/step - loss: nan - accuracy: 0.1110\n",
            "Epoch 20/50\n",
            "3952/3952 [==============================] - 11s 3ms/step - loss: nan - accuracy: 0.1110\n",
            "Epoch 21/50\n",
            "3952/3952 [==============================] - 11s 3ms/step - loss: nan - accuracy: 0.1110\n",
            "Epoch 22/50\n",
            "3952/3952 [==============================] - 11s 3ms/step - loss: nan - accuracy: 0.1110\n",
            "Epoch 23/50\n",
            "3952/3952 [==============================] - 11s 3ms/step - loss: nan - accuracy: 0.1110\n",
            "Epoch 24/50\n",
            "3952/3952 [==============================] - 11s 3ms/step - loss: nan - accuracy: 0.1110\n",
            "Epoch 25/50\n",
            "3952/3952 [==============================] - 11s 3ms/step - loss: nan - accuracy: 0.1110\n",
            "Epoch 26/50\n",
            "3952/3952 [==============================] - 11s 3ms/step - loss: nan - accuracy: 0.1110\n",
            "Epoch 27/50\n",
            "3952/3952 [==============================] - 11s 3ms/step - loss: nan - accuracy: 0.1110\n",
            "Epoch 28/50\n",
            "3952/3952 [==============================] - 11s 3ms/step - loss: nan - accuracy: 0.1110\n",
            "Epoch 29/50\n",
            "3952/3952 [==============================] - 11s 3ms/step - loss: nan - accuracy: 0.1110\n",
            "Epoch 30/50\n",
            "3952/3952 [==============================] - 11s 3ms/step - loss: nan - accuracy: 0.1110\n",
            "Epoch 31/50\n",
            "3952/3952 [==============================] - 11s 3ms/step - loss: nan - accuracy: 0.1110\n",
            "Epoch 32/50\n",
            "3952/3952 [==============================] - 12s 3ms/step - loss: nan - accuracy: 0.1110\n",
            "Epoch 33/50\n",
            "3952/3952 [==============================] - 11s 3ms/step - loss: nan - accuracy: 0.1110\n",
            "Epoch 34/50\n",
            "3952/3952 [==============================] - 11s 3ms/step - loss: nan - accuracy: 0.1110\n",
            "Epoch 35/50\n",
            "3952/3952 [==============================] - 11s 3ms/step - loss: nan - accuracy: 0.1110\n",
            "Epoch 36/50\n",
            "3952/3952 [==============================] - 11s 3ms/step - loss: nan - accuracy: 0.1110\n",
            "Epoch 37/50\n",
            "3952/3952 [==============================] - 11s 3ms/step - loss: nan - accuracy: 0.1110\n",
            "Epoch 38/50\n",
            "3952/3952 [==============================] - 11s 3ms/step - loss: nan - accuracy: 0.1110\n",
            "Epoch 39/50\n",
            "3952/3952 [==============================] - 11s 3ms/step - loss: nan - accuracy: 0.1110\n",
            "Epoch 40/50\n",
            "3952/3952 [==============================] - 11s 3ms/step - loss: nan - accuracy: 0.1110\n",
            "Epoch 41/50\n",
            "3952/3952 [==============================] - 11s 3ms/step - loss: nan - accuracy: 0.1110\n",
            "Epoch 42/50\n",
            "3952/3952 [==============================] - 11s 3ms/step - loss: nan - accuracy: 0.1110\n",
            "Epoch 43/50\n",
            "3952/3952 [==============================] - 11s 3ms/step - loss: nan - accuracy: 0.1110\n",
            "Epoch 44/50\n",
            "3952/3952 [==============================] - 11s 3ms/step - loss: nan - accuracy: 0.1110\n",
            "Epoch 45/50\n",
            "3952/3952 [==============================] - 11s 3ms/step - loss: nan - accuracy: 0.1110\n",
            "Epoch 46/50\n",
            "3952/3952 [==============================] - 11s 3ms/step - loss: nan - accuracy: 0.1110\n",
            "Epoch 47/50\n",
            "3952/3952 [==============================] - 11s 3ms/step - loss: nan - accuracy: 0.1110\n",
            "Epoch 48/50\n",
            "3952/3952 [==============================] - 11s 3ms/step - loss: nan - accuracy: 0.1110\n",
            "Epoch 49/50\n",
            "3952/3952 [==============================] - 11s 3ms/step - loss: nan - accuracy: 0.1110\n",
            "Epoch 50/50\n",
            "3952/3952 [==============================] - 11s 3ms/step - loss: nan - accuracy: 0.1110\n",
            "Accuracy: 0.11094239354133606\n"
          ]
        }
      ],
      "source": [
        "import pandas as pd\n",
        "import numpy as np\n",
        "from sklearn.model_selection import train_test_split\n",
        "import tensorflow as tf\n",
        "\n",
        "# Load dataset\n",
        "data = pd.read_csv('/content/drive/MyDrive/dataset/data/food_brand_only.csv')  # Ganti 'dataset.csv' dengan nama file dataset Anda\n",
        "# Preprocessing data\n",
        "# data['calories'] = data['calories'].apply(lambda x: x.replace(' kcal', '')).astype(float)\n",
        "# data['fat'] = data['fat'].apply(lambda x: x.replace('g', '')).astype(float)\n",
        "# data['sugar'] = data['sugar'].apply(lambda x: x.replace('g', '')).astype(float)\n",
        "\n",
        "# Calculate calories per unit\n",
        "data['calories_per_unit'] = data['calories'] / data['metric_serving_amount']\n",
        "\n",
        "from sklearn.preprocessing import MinMaxScaler\n",
        "\n",
        "# Normalize \"metric_serving_amount\" with consideration to calories per unit\n",
        "scaler = MinMaxScaler()\n",
        "data['metric_serving_amount_normalized'] = scaler.fit_transform(data[['metric_serving_amount']])\n",
        "\n",
        "# Adjust calories based on the normalized serving amount\n",
        "data['calorie_normalized'] = data['metric_serving_amount_normalized'] * data['calories_per_unit']\n",
        "\n",
        "def determine_meal_type(row):\n",
        "    if row['calories'] <= 300 :\n",
        "        return 'Dinner'\n",
        "    elif row['calories'] <= 500 :\n",
        "        return 'Breakfast'\n",
        "    else:\n",
        "        return 'Lunch'\n",
        "\n",
        "# Create 'meal_type' column\n",
        "data['meal_type'] = data.apply(determine_meal_type, axis=1)\n",
        "\n",
        "# Save updated dataset\n",
        "data.to_csv('dataset_with_meal_type.csv', index=False)\n",
        "\n",
        "# Split data into features and labels\n",
        "X = data[['calorie_normalized']]\n",
        "y = data[['meal_type', 'food_name','food_id','serving_id']]  # Menambahkan kolom 'food_name' sebagai label\n",
        "\n",
        "# Split data into train and test sets\n",
        "X_train, X_test, y_train, y_test = train_test_split(X, y, test_size=0.2, random_state=42)\n",
        "\n",
        "# Normalize data\n",
        "X_train_norm = (X_train - X_train.mean()) / X_train.std()\n",
        "X_test_norm = (X_test - X_train.mean()) / X_train.std()\n",
        "\n",
        "# Convert labels to one-hot encoding\n",
        "y_train_encoded = pd.get_dummies(y_train['meal_type'])\n",
        "y_test_encoded = pd.get_dummies(y_test['meal_type'])\n",
        "\n",
        "# Define model\n",
        "model = tf.keras.Sequential()\n",
        "model.add(tf.keras.layers.Dense(128, activation='relu', input_shape=(1,)))\n",
        "model.add(tf.keras.layers.Dense(64, activation='relu'))\n",
        "model.add(tf.keras.layers.Dropout(0.3))\n",
        "model.add(tf.keras.layers.Dense(3, activation='softmax'))\n",
        "\n",
        "# Compile model\n",
        "model.compile(optimizer='adam', loss='categorical_crossentropy', metrics=['accuracy'])\n",
        "\n",
        "# Train model\n",
        "model.fit(X_train_norm, y_train_encoded, epochs=50, batch_size=32, verbose=1)\n",
        "\n",
        "# Evaluate model\n",
        "loss, accuracy = model.evaluate(X_test_norm, y_test_encoded, verbose=0)\n",
        "print(f'Accuracy: {accuracy}')\n",
        "\n"
      ]
    },
    {
      "cell_type": "code",
      "source": [
        "# User input for maximum nutrient values per day\n",
        "max_calorie = float(input(\"Enter maximum calorie per day: \"))\n",
        "# max_fat = float(input(\"Enter maximum fat per day: \"))\n",
        "# max_sugar = float(input(\"Enter maximum sugar per day: \"))\n",
        "\n",
        "# Normalize user input\n",
        "user_input = pd.DataFrame([[max_calorie]], columns=['calorie_normalized'])\n",
        "user_input_norm = (user_input - X_train.mean()) / X_train.std()\n",
        "\n",
        "# Get meal recommendations\n",
        "recommendations = model.predict(user_input_norm)\n",
        "meal_types = y_train_encoded.columns.values\n",
        "\n",
        "for i, recommendation in enumerate(recommendations[0]):\n",
        "    print(f'Recommended {meal_types[i]}:')\n",
        "    recommended_foods = y_train[(y_train['meal_type'] == meal_types[i])][['food_id', 'serving_id', 'food_name']]\n",
        "    recommended_food_samples = recommended_foods.sample(n=5)\n",
        "    for index, row in recommended_food_samples.iterrows():\n",
        "        food_id = row['food_id']\n",
        "        serving_id = row['serving_id']\n",
        "        food_name = row['food_name']\n",
        "        print(f'- Food ID: {food_id}, Serving ID: {serving_id}, Name: {food_name}')"
      ],
      "metadata": {
        "colab": {
          "base_uri": "https://localhost:8080/"
        },
        "id": "pl-SLMwZ1_Mv",
        "outputId": "7046816e-fb59-41dd-ee30-072d78e27c8f"
      },
      "execution_count": null,
      "outputs": [
        {
          "output_type": "stream",
          "name": "stdout",
          "text": [
            "Enter maximum calorie per day: 2000\n",
            "1/1 [==============================] - 0s 79ms/step\n",
            "Recommended Breakfast:\n",
            "- Food ID: 5885612, Serving ID: 5711673, Name: Vegetable & Hummus Wrap\n",
            "- Food ID: 168435, Serving ID: 211278, Name: Choco Cherry Love Blizzard (Small)\n",
            "- Food ID: 7828613, Serving ID: 7539190, Name: Battered Onion Rings\n",
            "- Food ID: 16460374, Serving ID: 15538837, Name: Burrito Breakfast Bowl\n",
            "- Food ID: 3288608, Serving ID: 3199340, Name: Chicken Lasagna\n",
            "Recommended Dinner:\n",
            "- Food ID: 29615443, Serving ID: 27010825, Name: Cranberry Grape\n",
            "- Food ID: 1549182, Serving ID: 1530242, Name: Extra Dessert Delights Sugarfree Gum - Mint Chocolate Chip\n",
            "- Food ID: 2222135, Serving ID: 2175204, Name: Buttermilk Bread\n",
            "- Food ID: 1795583, Serving ID: 1766053, Name: Pomegranate Granola\n",
            "- Food ID: 5772035, Serving ID: 5603333, Name: Crab Cake\n",
            "Recommended Lunch:\n",
            "- Food ID: 26547, Serving ID: 66486, Name: Double-Double Burger\n",
            "- Food ID: 51764, Serving ID: 103589, Name: Blackened Fish Banzai Bowl\n",
            "- Food ID: 167578, Serving ID: 210473, Name: Onion Chips (Sack)\n",
            "- Food ID: 1100364, Serving ID: 1101370, Name: Key Lime Pie\n",
            "- Food ID: 69205465, Serving ID: 56592798, Name: Margherita Flatbread Pizza\n"
          ]
        }
      ]
    },
    {
      "cell_type": "code",
      "source": [],
      "metadata": {
        "id": "oEsllI-3xhnK"
      },
      "execution_count": null,
      "outputs": []
    }
  ]
}